version https://git-lfs.github.com/spec/v1
oid sha256:babc67b4bf395c458cc78c0b8e228f46e821a7b6bc414766be74d17478eaa1ea
size 3679100
