version https://git-lfs.github.com/spec/v1
oid sha256:2498915aad27d039ede8a637ae4291029bf77d1b995731694a49f0bda1e59210
size 3619994
