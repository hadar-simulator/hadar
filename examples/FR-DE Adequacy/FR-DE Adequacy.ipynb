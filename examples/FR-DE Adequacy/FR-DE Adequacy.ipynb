version https://git-lfs.github.com/spec/v1
oid sha256:f2e011faf04ebe297d3e034e905533eb5f033306271f607c6a9cd08b3710716a
size 7213321
