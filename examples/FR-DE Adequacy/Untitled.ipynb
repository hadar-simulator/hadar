{
 "cells": [
  {
   "cell_type": "code",
   "execution_count": 9,
   "metadata": {},
   "outputs": [],
   "source": [
    "import pandas as pd\n",
    "import numpy as np"
   ]
  },
  {
   "cell_type": "code",
   "execution_count": 10,
   "metadata": {},
   "outputs": [],
   "source": [
    "fr = pd.read_csv('fr.csv')\n",
    "de = pd.read_csv('de.csv')"
   ]
  },
  {
   "cell_type": "code",
   "execution_count": 11,
   "metadata": {},
   "outputs": [],
   "source": [
    "from hadar.solver.input import Study, Production, Consumption, Border\n",
    "from hadar.solver.study import solve"
   ]
  },
  {
   "cell_type": "code",
   "execution_count": 12,
   "metadata": {},
   "outputs": [],
   "source": [
    "study = Study(['fr', 'de']) \\\n",
    "    .add_on_node('fr', data=Consumption(type='load', cost=10**6, quantity=fr['cons'])) \\\n",
    "    .add_on_node('fr', data=Production(type='solar', cost=10, quantity=fr['solar'])) \\\n",
    "    .add_on_node('fr', data=Production(type='nuclear', cost=30, quantity=fr['nuclear'])) \\\n",
    "    .add_on_node('fr', data=Production(type='coal', cost=100, quantity=fr['coal'])) \\\n",
    "\\\n",
    "    .add_on_node('de', data=Consumption(type='load', cost=10**6, quantity=de['cons'])) \\\n",
    "    .add_on_node('de', data=Production(type='solar', cost=10, quantity=de['solar'])) \\\n",
    "    .add_on_node('de', data=Production(type='eolien', cost=15, quantity=de['eolien'])) \\\n",
    "    .add_on_node('de', data=Production(type='coal', cost=100, quantity=de['coal'])) \\\n",
    "\\\n",
    "    .add_border(src='fr', dest='de', cost=5, quantity=np.ones(48) * 4000) \\\n",
    "    .add_border(src='de', dest='fr', cost=5, quantity=np.ones(48) * 4000)"
   ]
  },
  {
   "cell_type": "code",
   "execution_count": 13,
   "metadata": {},
   "outputs": [],
   "source": [
    "res = solve(study)"
   ]
  },
  {
   "cell_type": "code",
   "execution_count": 14,
   "metadata": {},
   "outputs": [],
   "source": [
    "from hadar.aggregator.result import ResultAggregator\n",
    "from hadar.viewer.jupyter import JupyterPlotting"
   ]
  },
  {
   "cell_type": "code",
   "execution_count": 15,
   "metadata": {},
   "outputs": [],
   "source": [
    "agg = ResultAggregator(study, res)\n",
    "plot = JupyterPlotting(agg=agg)"
   ]
  },
  {
   "cell_type": "code",
   "execution_count": 16,
   "metadata": {
    "scrolled": false
   },
   "outputs": [
    {
     "data": {
      "application/vnd.jupyter.widget-view+json": {
       "model_id": "bb0d681bfb834709aa1cde4bbe24125b",
       "version_major": 2,
       "version_minor": 0
      },
      "text/plain": [
       "Dropdown(description='Node:', options=('fr', 'de'), value='fr')"
      ]
     },
     "metadata": {},
     "output_type": "display_data"
    },
    {
     "data": {
      "application/vnd.jupyter.widget-view+json": {
       "model_id": "581cbf9e78f449c69ab8839fe288caa2",
       "version_major": 2,
       "version_minor": 0
      },
      "text/plain": [
       "Output()"
      ]
     },
     "metadata": {},
     "output_type": "display_data"
    }
   ],
   "source": [
    "plot.stack()"
   ]
  },
  {
   "cell_type": "code",
   "execution_count": null,
   "metadata": {},
   "outputs": [],
   "source": []
  }
 ],
 "metadata": {
  "kernelspec": {
   "display_name": "Python 3",
   "language": "python",
   "name": "python3"
  },
  "language_info": {
   "codemirror_mode": {
    "name": "ipython",
    "version": 3
   },
   "file_extension": ".py",
   "mimetype": "text/x-python",
   "name": "python",
   "nbconvert_exporter": "python",
   "pygments_lexer": "ipython3",
   "version": "3.6.9"
  }
 },
 "nbformat": 4,
 "nbformat_minor": 4
}
