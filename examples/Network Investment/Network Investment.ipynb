version https://git-lfs.github.com/spec/v1
oid sha256:3bb23d9f0cbca53dc896fcc1a6dea417921be853cad294752828cfb60e245cde
size 8580927
