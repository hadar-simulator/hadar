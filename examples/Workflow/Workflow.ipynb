version https://git-lfs.github.com/spec/v1
oid sha256:e1ec1f72473a1e15f6efaaec81b6ad81898a1904cef02b9716a138bc3d75fbc0
size 538335
